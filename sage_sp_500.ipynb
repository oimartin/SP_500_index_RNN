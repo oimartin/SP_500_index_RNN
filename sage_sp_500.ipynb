{
 "cells": [
  {
   "cell_type": "markdown",
   "id": "2bbfad46-637f-430d-abc4-16c4e6159269",
   "metadata": {},
   "source": [
    "[![Open In Studio Lab](https://studiolab.sagemaker.aws/studiolab.svg)](https://studiolab.sagemaker.aws/import/github/org/repo/blob/master/path/to/sage_sp_500.ipynb)"
   ]
  },
  {
   "cell_type": "markdown",
   "id": "b0db0955-2319-4214-8485-f94dfb987c36",
   "metadata": {},
   "source": [
    "Load Libraries"
   ]
  },
  {
   "cell_type": "code",
   "execution_count": 2,
   "id": "461b7a1a-b01d-47a7-97b7-33592d45586c",
   "metadata": {},
   "outputs": [],
   "source": [
    "import pandas as pd\n",
    "import numpy as np\n",
    "import seaborn as sns\n",
    "import plotly.graph_objects as go\n",
    "import plotly.express as px\n",
    "import matplotlib.pyplot as plt\n",
    "%matplotlib inline"
   ]
  },
  {
   "cell_type": "markdown",
   "id": "8122decb-4e6a-470d-a9fd-5d1c72e1732d",
   "metadata": {},
   "source": [
    "Load Data"
   ]
  },
  {
   "cell_type": "code",
   "execution_count": 5,
   "id": "50b70422-8001-42a2-9c27-593bb3933855",
   "metadata": {},
   "outputs": [
    {
     "data": {
      "text/html": [
       "<div>\n",
       "<style scoped>\n",
       "    .dataframe tbody tr th:only-of-type {\n",
       "        vertical-align: middle;\n",
       "    }\n",
       "\n",
       "    .dataframe tbody tr th {\n",
       "        vertical-align: top;\n",
       "    }\n",
       "\n",
       "    .dataframe thead th {\n",
       "        text-align: right;\n",
       "    }\n",
       "</style>\n",
       "<table border=\"1\" class=\"dataframe\">\n",
       "  <thead>\n",
       "    <tr style=\"text-align: right;\">\n",
       "      <th></th>\n",
       "      <th>Date</th>\n",
       "      <th>Open</th>\n",
       "      <th>High</th>\n",
       "      <th>Low</th>\n",
       "      <th>Close</th>\n",
       "      <th>Adj Close</th>\n",
       "      <th>Volume</th>\n",
       "    </tr>\n",
       "  </thead>\n",
       "  <tbody>\n",
       "    <tr>\n",
       "      <th>0</th>\n",
       "      <td>28-Feb-22</td>\n",
       "      <td>4,354.17</td>\n",
       "      <td>4,388.84</td>\n",
       "      <td>4,315.12</td>\n",
       "      <td>4,373.94</td>\n",
       "      <td>4,373.94</td>\n",
       "      <td>4,594,010,000</td>\n",
       "    </tr>\n",
       "    <tr>\n",
       "      <th>1</th>\n",
       "      <td>25-Feb-22</td>\n",
       "      <td>4,298.38</td>\n",
       "      <td>4,385.34</td>\n",
       "      <td>4,286.83</td>\n",
       "      <td>4,384.65</td>\n",
       "      <td>4,384.65</td>\n",
       "      <td>3,941,780,000</td>\n",
       "    </tr>\n",
       "    <tr>\n",
       "      <th>2</th>\n",
       "      <td>24-Feb-22</td>\n",
       "      <td>4,155.77</td>\n",
       "      <td>4,294.73</td>\n",
       "      <td>4,114.65</td>\n",
       "      <td>4,288.70</td>\n",
       "      <td>4,288.70</td>\n",
       "      <td>5,070,560,000</td>\n",
       "    </tr>\n",
       "    <tr>\n",
       "      <th>3</th>\n",
       "      <td>23-Feb-22</td>\n",
       "      <td>4,324.93</td>\n",
       "      <td>4,341.51</td>\n",
       "      <td>4,221.51</td>\n",
       "      <td>4,225.50</td>\n",
       "      <td>4,225.50</td>\n",
       "      <td>3,814,340,000</td>\n",
       "    </tr>\n",
       "    <tr>\n",
       "      <th>4</th>\n",
       "      <td>22-Feb-22</td>\n",
       "      <td>4,332.74</td>\n",
       "      <td>4,362.12</td>\n",
       "      <td>4,267.11</td>\n",
       "      <td>4,304.76</td>\n",
       "      <td>4,304.76</td>\n",
       "      <td>4,007,780,000</td>\n",
       "    </tr>\n",
       "  </tbody>\n",
       "</table>\n",
       "</div>"
      ],
      "text/plain": [
       "        Date      Open      High       Low     Close Adj Close         Volume\n",
       "0  28-Feb-22  4,354.17  4,388.84  4,315.12  4,373.94  4,373.94  4,594,010,000\n",
       "1  25-Feb-22  4,298.38  4,385.34  4,286.83  4,384.65  4,384.65  3,941,780,000\n",
       "2  24-Feb-22  4,155.77  4,294.73  4,114.65  4,288.70  4,288.70  5,070,560,000\n",
       "3  23-Feb-22  4,324.93  4,341.51  4,221.51  4,225.50  4,225.50  3,814,340,000\n",
       "4  22-Feb-22  4,332.74  4,362.12  4,267.11  4,304.76  4,304.76  4,007,780,000"
      ]
     },
     "execution_count": 5,
     "metadata": {},
     "output_type": "execute_result"
    }
   ],
   "source": [
    "data = pd.read_csv('https://raw.githubusercontent.com/oimartin/SP_500_index_RNN/main/data/sp_500_5yr_02282017_01282022.csv')\n",
    "data.head()"
   ]
  }
 ],
 "metadata": {
  "kernelspec": {
   "display_name": "sp_500_env:Python",
   "language": "python",
   "name": "conda-env-sp_500_env-py"
  },
  "language_info": {
   "codemirror_mode": {
    "name": "ipython",
    "version": 3
   },
   "file_extension": ".py",
   "mimetype": "text/x-python",
   "name": "python",
   "nbconvert_exporter": "python",
   "pygments_lexer": "ipython3",
   "version": "3.7.12"
  }
 },
 "nbformat": 4,
 "nbformat_minor": 5
}
